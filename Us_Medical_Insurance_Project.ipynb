{
 "cells": [
  {
   "cell_type": "markdown",
   "id": "15df7f55",
   "metadata": {},
   "source": [
    "# U.S. Medical Insurance Costs\n",
    "In this project, a **CSV** file with medical insurance costs will be investigated using Python fundamentals. The goal with this project will be to analyze various attributes within **insurance.csv** to learn more about the patient information in the file and gain insight into potential use cases for the dataset."
   ]
  },
  {
   "cell_type": "code",
   "execution_count": 27,
   "id": "74aadeb6",
   "metadata": {},
   "outputs": [],
   "source": [
    "#import csv and matplotlib libraries\n",
    "import csv\n",
    "from matplotlib import pyplot as plt"
   ]
  },
  {
   "cell_type": "markdown",
   "id": "49a4f29b",
   "metadata": {},
   "source": [
    "To start, all necessary libraries must be imported. For this project the libraries needed are the `csv` and `matplotlib` libraries in order to work with the **insurance.csv** data. There are other potential libraries that could help with this project; however, for this analysis, using just the `csv`and `matplotlib` libraries will suffice."
   ]
  },
  {
   "cell_type": "markdown",
   "id": "506a19e4",
   "metadata": {},
   "source": [
    "The next step is to open the `csv` file and save it as a list to enable to check if they are empty data sets and what the columns of the data are and the number of rows in the data."
   ]
  },
  {
   "cell_type": "code",
   "execution_count": 28,
   "id": "123eda1b",
   "metadata": {},
   "outputs": [],
   "source": [
    "#function to download data from the csv file\n",
    "def download_file(csv_file):\n",
    "    downloaded_data = []\n",
    "    with open(csv_file, newline='') as insurance_csv:\n",
    "        insurance_file = csv.DictReader(insurance_csv)\n",
    "        for row in insurance_file:\n",
    "            downloaded_data.append(row)\n",
    "    return downloaded_data\n",
    "\n",
    "#function to determine the number of rows\n",
    "# each column should ideally have same number of rows of data\n",
    "def num_rows_in_file(downloaded_data):\n",
    "    count = 0\n",
    "    for row in downloaded_data:\n",
    "        count += 1\n",
    "    print ('The number of rows is ' + str(count) + '.')\n",
    "    \n",
    "#names of columns\n",
    "def column_names(downloaded_data):\n",
    "    keys = []\n",
    "    for row in downloaded_data:\n",
    "        pass\n",
    "    for key in row:\n",
    "        keys.append(key)\n",
    "    print(keys)\n",
    "    "
   ]
  },
  {
   "cell_type": "code",
   "execution_count": 29,
   "id": "3f29f6a9",
   "metadata": {},
   "outputs": [
    {
     "name": "stdout",
     "output_type": "stream",
     "text": [
      "The number of rows is 1338.\n",
      "['age', 'sex', 'bmi', 'children', 'smoker', 'region', 'charges']\n"
     ]
    }
   ],
   "source": [
    "insurance_data = download_file('insurance.csv')\n",
    "data_count = num_rows_in_file(insurance_data)\n",
    "names_columns = column_names(insurance_data)"
   ]
  },
  {
   "cell_type": "markdown",
   "id": "14bfb78f",
   "metadata": {},
   "source": [
    "**insurance.csv** contains the following columns:\n",
    "\n",
    "+ Patient Age\n",
    "+ Patient Sex\n",
    "+ Patient BMI\n",
    "+ Patient Number of Children\n",
    "+ Patient Smoking Status\n",
    "+ Patient U.S Geopraphical Region\n",
    "+ Patient Yearly Medical Insurance Cost\n",
    "\n",
    "There are no signs of missing data. To store this information, seven empty lists will be created hold each individual column of data from **insurance.csv**."
   ]
  },
  {
   "cell_type": "code",
   "execution_count": 30,
   "id": "1d42dd3b",
   "metadata": {},
   "outputs": [],
   "source": [
    "Age = []\n",
    "Sex = []\n",
    "Bmi = []\n",
    "Children = []\n",
    "Smoker = []\n",
    "Region = []\n",
    "Charges = []"
   ]
  },
  {
   "cell_type": "markdown",
   "id": "2e487d9a",
   "metadata": {},
   "source": [
    "A function will created to automate the creation of lists taht contain data for each of the columns in the **insurance.csv** file."
   ]
  },
  {
   "cell_type": "code",
   "execution_count": 31,
   "id": "7640a68b",
   "metadata": {},
   "outputs": [],
   "source": [
    "def create_lst(lst, data_file, column_name):\n",
    "    for data in data_file:\n",
    "        lst.append(data[column_name])\n",
    "    return lst"
   ]
  },
  {
   "cell_type": "code",
   "execution_count": 32,
   "id": "0adab0b5",
   "metadata": {},
   "outputs": [],
   "source": [
    "AGE = create_lst(Age, insurance_data, 'age')\n",
    "SEX = create_lst(Sex, insurance_data, 'sex')\n",
    "BMI = create_lst(Bmi, insurance_data, 'sex')\n",
    "CHILDREN = create_lst(Children, insurance_data, 'children')\n",
    "SMOKER = create_lst(Smoker, insurance_data, 'smoker')\n",
    "REGION = create_lst(Region, insurance_data, 'region')\n",
    "Cost_of_insurance = create_lst(Charges, insurance_data, 'charges')"
   ]
  },
  {
   "cell_type": "markdown",
   "id": "05c44f3a",
   "metadata": {},
   "source": [
    "Now that all the data from **insurance.csv** neatly organized into labeled lists, the analysis can be started. There are many aspects of the data that could be looked into. The following operations will be implemented:\n",
    "* find average age of the patients\n",
    "* plot the number of males vs. females counted in the dataset\n",
    "* plot geographical location of the patients\n",
    "* return the average yearly medical charges of the patients\n",
    "\n",
    "\n",
    "To perform these inspections, a class called `PatientsInfo` has been built out which contains fives methods:\n",
    "* `analyze_ages()`\n",
    "* `analyze_sexes()`\n",
    "* `unique_regions()`\n",
    "* `average_charges()`\n",
    "\n",
    "\n",
    "The class has been built out below. "
   ]
  },
  {
   "cell_type": "code",
   "execution_count": 42,
   "id": "71d7c70a",
   "metadata": {},
   "outputs": [],
   "source": [
    "class PatientsInfo:\n",
    "    def __init__(self, ages, sexes, bmis, num_children, smokers, regions, insurance_charges):\n",
    "        self.ages = ages\n",
    "        self.sexes = sexes\n",
    "        self.bmis = bmis\n",
    "        self.num_children = num_children\n",
    "        self.smokers = smokers\n",
    "        self.regions = regions\n",
    "        self.insurance_charges = insurance_charges\n",
    "        self.count_dict = {}\n",
    "        \n",
    "    # method to compute the average age in the insurance data\n",
    "    def analyze_ages(self):\n",
    "        total_age = 0\n",
    "        for age in self.ages:\n",
    "            total_age += int(age)\n",
    "        average_age = round(total_age/len(self.ages), 2)\n",
    "        print(\"Average insured age is \" + str(average_age) + ' years.')\n",
    "         \n",
    "    \n",
    "    # methode to compute the average cost of insurance\n",
    "    def average_charges(self):\n",
    "        total_cost = 0\n",
    "        for cost in self.insurance_charges:\n",
    "            total_cost += float(cost)\n",
    "        average_cost = round(total_cost/len(self.insurance_charges), 2)\n",
    "        print(\"The average monthly medical insurance charges is \" + str(average_cost) + ' dollars.')\n",
    "     \n",
    "    \n",
    "    # plotting the unique regions\n",
    "    def analyze_sexes(self):\n",
    "        sex_dict = {}\n",
    "        x_sex = []\n",
    "        y_sex =[]\n",
    "        for sex in self.sexes:\n",
    "            sex_dict[sex] = self.sexes.count(sex)\n",
    "        for key in sex_dict:\n",
    "            x_sex.append(key)\n",
    "            y_sex.append(sex_dict[key])\n",
    "        p1 = plt.bar(x_sex, y_sex, width=0.4, edgecolor='white', linewidth=0.5, color='red')\n",
    "        plt.xlabel('Sexes')\n",
    "        plt.ylabel('Number of Insured')\n",
    "        plt.title(\"Simple Bar Chart Showing Males & Females\")\n",
    "        plt.bar_label(p1, labels=y_sex, label_type='center')\n",
    "        return plt.show()\n",
    "        \n",
    "    # method for analyzing unique regions\n",
    "    def unique_regions(self):\n",
    "        region_dict = {}\n",
    "        x_region = []\n",
    "        y_region =[]\n",
    "        for region in self.regions:\n",
    "            region_dict[region] = self.regions.count(region)\n",
    "        for key in region_dict:\n",
    "            x_region.append(key)\n",
    "            y_region.append(region_dict[key])\n",
    "        p1 = plt.bar(x_region, y_region, width=0.4, edgecolor='white', linewidth=0.5, color='blue')\n",
    "        plt.xlabel('Regions')\n",
    "        plt.ylabel('Number of Insured')\n",
    "        plt.title(\"Simple Bar Chart Showing The Regional Distribution\")\n",
    "        plt.bar_label(p1, labels=y_region, label_type='center')\n",
    "        plt.show() "
   ]
  },
  {
   "cell_type": "code",
   "execution_count": 43,
   "id": "77595a0f",
   "metadata": {},
   "outputs": [],
   "source": [
    "# instantiating PatientsInfo\n",
    "insured_data = PatientsInfo(AGE, SEX, BMI, CHILDREN, SMOKER, REGION, Cost_of_insurance)"
   ]
  },
  {
   "cell_type": "code",
   "execution_count": 44,
   "id": "e74293bb",
   "metadata": {},
   "outputs": [
    {
     "name": "stdout",
     "output_type": "stream",
     "text": [
      "Average insured age is 39.21 years.\n",
      "The average monthly medical insurance charges is 13270.42 dollars.\n"
     ]
    }
   ],
   "source": [
    "# What is the average of the insurers in the data?\n",
    "insured_average_age = insured_data.analyze_ages()\n",
    "\n",
    "\n",
    "# What is the average cost of insurance per month?\n",
    "average_cost_insurance = insured_data.average_charges()\n"
   ]
  },
  {
   "cell_type": "markdown",
   "id": "5206d2f5",
   "metadata": {},
   "source": [
    "The average age of the patients in **insurance.csv** is about 39 years old. This is important to check in order to ensure the data in **insurance.csv** is representative for a broader population. The average yearly medical insurance charge per individual is 13270 US dollars."
   ]
  },
  {
   "cell_type": "code",
   "execution_count": 47,
   "id": "6b876f02",
   "metadata": {},
   "outputs": [
    {
     "data": {
      "image/png": "[encoded data removed]",
      "text/plain": [
       "<Figure size 432x288 with 1 Axes>"
      ]
     },
     "metadata": {
      "needs_background": "light"
     },
     "output_type": "display_data"
    }
   ],
   "source": [
    "# What is number of males and females insured?\n",
    "# Graphical Representation of Males and Females Distribution\n",
    "p1 = insured_data.analyze_sexes()"
   ]
  },
  {
   "cell_type": "markdown",
   "id": "1d312573",
   "metadata": {},
   "source": [
    "The graph shows the distribution of males and females in **insurance.csv** is fairly split down the middle, that is Males are **676** and females are **662**. This is important to check in order to ensure the data in **insurance.csv** is representative for a broader population."
   ]
  },
  {
   "cell_type": "code",
   "execution_count": 48,
   "id": "34cffa79",
   "metadata": {},
   "outputs": [
    {
     "data": {
      "image/png": "[encoded data removed]",
      "text/plain": [
       "<Figure size 432x288 with 1 Axes>"
      ]
     },
     "metadata": {
      "needs_background": "light"
     },
     "output_type": "display_data"
    }
   ],
   "source": [
    "# What is the Regional Distribution of the US Medical Insurance Data?\n",
    "# Graphical Representation of the Distribution\n",
    "p2 = insured_data.unique_regions()"
   ]
  },
  {
   "cell_type": "code",
   "execution_count": null,
   "id": "1f875dc0",
   "metadata": {},
   "outputs": [],
   "source": []
  }
 ],
 "metadata": {
  "kernelspec": {
   "display_name": "Python 3 (ipykernel)",
   "language": "python",
   "name": "python3"
  },
  "language_info": {
   "codemirror_mode": {
    "name": "ipython",
    "version": 3
   },
   "file_extension": ".py",
   "mimetype": "text/x-python",
   "name": "python",
   "nbconvert_exporter": "python",
   "pygments_lexer": "ipython3",
   "version": "3.9.5"
  }
 },
 "nbformat": 4,
 "nbformat_minor": 5
}
